{
 "cells": [
  {
   "cell_type": "code",
   "execution_count": 4,
   "id": "00011bf6-195e-465e-b053-e3fc64292a51",
   "metadata": {},
   "outputs": [],
   "source": [
    "CUDA_VISIBLE_DEVICES=0\n",
    "import tensorflow as tf"
   ]
  },
  {
   "cell_type": "code",
   "execution_count": 15,
   "id": "f851ae25-fb4a-4bef-aae0-1189626d0d8e",
   "metadata": {},
   "outputs": [],
   "source": [
    "rank12 = tf.Variable([\"test\",\"ok\"],tf.string)\n",
    "rank23 = tf.Variable([[[\"test\",\"ok\"],[\"fuck\",\"shit\"]],[[\"test\",\"no\"],[\"fuck\",\"shit\"]]],tf.string)"
   ]
  },
  {
   "cell_type": "code",
   "execution_count": 6,
   "id": "bf3b481e-8e8c-4872-a559-0fc0da67c919",
   "metadata": {},
   "outputs": [
    {
     "data": {
      "text/plain": [
       "<tf.Tensor: shape=(3,), dtype=int32, numpy=array([2, 2, 2], dtype=int32)>"
      ]
     },
     "execution_count": 6,
     "metadata": {},
     "output_type": "execute_result"
    }
   ],
   "source": [
    "tf.shape(rank23)"
   ]
  },
  {
   "cell_type": "code",
   "execution_count": 35,
   "id": "fa1040a1-8702-4add-afa4-9117f5609683",
   "metadata": {},
   "outputs": [
    {
     "data": {
      "text/plain": [
       "<tf.Tensor: shape=(1,), dtype=int32, numpy=array([2], dtype=int32)>"
      ]
     },
     "execution_count": 35,
     "metadata": {},
     "output_type": "execute_result"
    }
   ],
   "source": [
    "tf.shape(rank12)"
   ]
  },
  {
   "cell_type": "code",
   "execution_count": 8,
   "id": "b5201990-aa16-41ba-8115-e09dc62069db",
   "metadata": {},
   "outputs": [],
   "source": [
    "tensor1 = tf.ones([1,2,3])"
   ]
  },
  {
   "cell_type": "code",
   "execution_count": 9,
   "id": "41f37c96-574d-4dc1-a499-1813fe70a09d",
   "metadata": {},
   "outputs": [
    {
     "name": "stdout",
     "output_type": "stream",
     "text": [
      "tf.Tensor(\n",
      "[[[1. 1. 1.]\n",
      "  [1. 1. 1.]]], shape=(1, 2, 3), dtype=float32)\n"
     ]
    }
   ],
   "source": [
    "print(tensor1)"
   ]
  },
  {
   "cell_type": "code",
   "execution_count": 10,
   "id": "4fae85da-474e-4d5c-8ff9-f0dfaade395e",
   "metadata": {},
   "outputs": [],
   "source": [
    "tensor2 = tf.reshape(tensor1,[2,3,1])"
   ]
  },
  {
   "cell_type": "code",
   "execution_count": 11,
   "id": "226cc14c-6b61-4808-abb7-18d026b608b3",
   "metadata": {},
   "outputs": [
    {
     "name": "stdout",
     "output_type": "stream",
     "text": [
      "tf.Tensor(\n",
      "[[[1.]\n",
      "  [1.]\n",
      "  [1.]]\n",
      "\n",
      " [[1.]\n",
      "  [1.]\n",
      "  [1.]]], shape=(2, 3, 1), dtype=float32)\n"
     ]
    }
   ],
   "source": [
    "print(tensor2)"
   ]
  },
  {
   "cell_type": "code",
   "execution_count": 12,
   "id": "9fd4037a-6882-4021-8344-b9130e56359d",
   "metadata": {},
   "outputs": [],
   "source": [
    "tensor3 = tf.reshape(tensor2,[3, -1])"
   ]
  },
  {
   "cell_type": "code",
   "execution_count": 13,
   "id": "10405c33-6905-4eb6-b113-d6818cd7b2b4",
   "metadata": {},
   "outputs": [
    {
     "name": "stdout",
     "output_type": "stream",
     "text": [
      "tf.Tensor(\n",
      "[[1. 1.]\n",
      " [1. 1.]\n",
      " [1. 1.]], shape=(3, 2), dtype=float32)\n"
     ]
    }
   ],
   "source": [
    "print(tensor3)"
   ]
  },
  {
   "cell_type": "code",
   "execution_count": 54,
   "id": "4cad0f6c-e1d1-4037-96c0-7ab281aac011",
   "metadata": {},
   "outputs": [
    {
     "data": {
      "text/plain": [
       "<tf.Tensor: shape=(3,), dtype=int32, numpy=array([1, 2, 3], dtype=int32)>"
      ]
     },
     "execution_count": 54,
     "metadata": {},
     "output_type": "execute_result"
    }
   ],
   "source": [
    "tf.shape(tensor1)"
   ]
  },
  {
   "cell_type": "code",
   "execution_count": 55,
   "id": "005447c7-2962-43d4-a611-5d653585bad9",
   "metadata": {},
   "outputs": [
    {
     "data": {
      "text/plain": [
       "<tf.Tensor: shape=(3,), dtype=int32, numpy=array([2, 3, 1], dtype=int32)>"
      ]
     },
     "execution_count": 55,
     "metadata": {},
     "output_type": "execute_result"
    }
   ],
   "source": [
    "tf.shape(tensor2)"
   ]
  },
  {
   "cell_type": "code",
   "execution_count": 56,
   "id": "8e1a6590-d6c3-44c7-bbf6-320754ca4284",
   "metadata": {},
   "outputs": [
    {
     "data": {
      "text/plain": [
       "<tf.Tensor: shape=(2,), dtype=int32, numpy=array([3, 2], dtype=int32)>"
      ]
     },
     "execution_count": 56,
     "metadata": {},
     "output_type": "execute_result"
    }
   ],
   "source": [
    "tf.shape(tensor3)"
   ]
  },
  {
   "cell_type": "code",
   "execution_count": 57,
   "id": "3878eb3f-b01d-46ad-b9b9-a8ca309fba4e",
   "metadata": {},
   "outputs": [
    {
     "name": "stdout",
     "output_type": "stream",
     "text": [
      "<tf.Variable 'Variable:0' shape=(2, 2, 2) dtype=string, numpy=\n",
      "array([[[b'test', b'ok'],\n",
      "        [b'fuck', b'shit']],\n",
      "\n",
      "       [[b'test', b'no'],\n",
      "        [b'fuck', b'shit']]], dtype=object)>\n"
     ]
    }
   ],
   "source": [
    "print(rank23)"
   ]
  },
  {
   "cell_type": "code",
   "execution_count": 58,
   "id": "a8e0e463-27d9-4ec6-9372-d5f925637e11",
   "metadata": {},
   "outputs": [],
   "source": [
    "tensor23 = tf.reshape(rank23,[-1])"
   ]
  },
  {
   "cell_type": "code",
   "execution_count": 59,
   "id": "68bef38e-92f6-4e29-be6a-c44ce0dd488c",
   "metadata": {},
   "outputs": [
    {
     "name": "stdout",
     "output_type": "stream",
     "text": [
      "tf.Tensor([b'test' b'ok' b'fuck' b'shit' b'test' b'no' b'fuck' b'shit'], shape=(8,), dtype=string)\n"
     ]
    }
   ],
   "source": [
    "print(tensor23)"
   ]
  },
  {
   "cell_type": "code",
   "execution_count": 17,
   "id": "dca98b88-c8ad-4fb3-923b-eeee535f8dcb",
   "metadata": {},
   "outputs": [],
   "source": [
    "tensor231 = tf.reshape(rank23,[4,-1])"
   ]
  },
  {
   "cell_type": "code",
   "execution_count": 18,
   "id": "82cc58b1-f732-41f5-ad06-61fe97307468",
   "metadata": {},
   "outputs": [
    {
     "name": "stdout",
     "output_type": "stream",
     "text": [
      "tf.Tensor(\n",
      "[[b'test' b'ok']\n",
      " [b'fuck' b'shit']\n",
      " [b'test' b'no']\n",
      " [b'fuck' b'shit']], shape=(4, 2), dtype=string)\n"
     ]
    }
   ],
   "source": [
    "print(tensor231)"
   ]
  },
  {
   "cell_type": "code",
   "execution_count": 12,
   "id": "b7c7af31-4952-43fd-ac12-a95488a5b510",
   "metadata": {},
   "outputs": [],
   "source": [
    "tensor231 = tf.reshape(rank23,[4,2])"
   ]
  },
  {
   "cell_type": "code",
   "execution_count": 37,
   "id": "d83ddbef-7f9c-4eac-92ad-a91500ffc8c2",
   "metadata": {},
   "outputs": [
    {
     "name": "stdout",
     "output_type": "stream",
     "text": [
      "tf.Tensor(\n",
      "[[b'test']\n",
      " [b'ok']\n",
      " [b'fuck']\n",
      " [b'shit']\n",
      " [b'test']\n",
      " [b'no']\n",
      " [b'fuck']\n",
      " [b'shit']], shape=(8, 1), dtype=string)\n"
     ]
    }
   ],
   "source": [
    "print(tensor231)"
   ]
  },
  {
   "cell_type": "code",
   "execution_count": 35,
   "id": "d2595b66-337c-4ad6-b371-8809a0915a43",
   "metadata": {},
   "outputs": [],
   "source": [
    "tensor231 = tf.reshape(rank23,[8,1])"
   ]
  },
  {
   "cell_type": "code",
   "execution_count": 38,
   "id": "8f90daec-daaa-49c5-96e5-28c15fa4118c",
   "metadata": {},
   "outputs": [],
   "source": [
    "t = tf.zeros([4,4,4,4])"
   ]
  },
  {
   "cell_type": "code",
   "execution_count": 49,
   "id": "6a522959-0832-4d0c-a44b-bd0f5ca3bb22",
   "metadata": {},
   "outputs": [
    {
     "name": "stdout",
     "output_type": "stream",
     "text": [
      "tf.Tensor(\n",
      "[[0. 0. 0. 0. 0. 0. 0. 0. 0. 0. 0. 0. 0. 0. 0. 0.]\n",
      " [0. 0. 0. 0. 0. 0. 0. 0. 0. 0. 0. 0. 0. 0. 0. 0.]\n",
      " [0. 0. 0. 0. 0. 0. 0. 0. 0. 0. 0. 0. 0. 0. 0. 0.]\n",
      " [0. 0. 0. 0. 0. 0. 0. 0. 0. 0. 0. 0. 0. 0. 0. 0.]\n",
      " [0. 0. 0. 0. 0. 0. 0. 0. 0. 0. 0. 0. 0. 0. 0. 0.]\n",
      " [0. 0. 0. 0. 0. 0. 0. 0. 0. 0. 0. 0. 0. 0. 0. 0.]\n",
      " [0. 0. 0. 0. 0. 0. 0. 0. 0. 0. 0. 0. 0. 0. 0. 0.]\n",
      " [0. 0. 0. 0. 0. 0. 0. 0. 0. 0. 0. 0. 0. 0. 0. 0.]\n",
      " [0. 0. 0. 0. 0. 0. 0. 0. 0. 0. 0. 0. 0. 0. 0. 0.]\n",
      " [0. 0. 0. 0. 0. 0. 0. 0. 0. 0. 0. 0. 0. 0. 0. 0.]\n",
      " [0. 0. 0. 0. 0. 0. 0. 0. 0. 0. 0. 0. 0. 0. 0. 0.]\n",
      " [0. 0. 0. 0. 0. 0. 0. 0. 0. 0. 0. 0. 0. 0. 0. 0.]\n",
      " [0. 0. 0. 0. 0. 0. 0. 0. 0. 0. 0. 0. 0. 0. 0. 0.]\n",
      " [0. 0. 0. 0. 0. 0. 0. 0. 0. 0. 0. 0. 0. 0. 0. 0.]\n",
      " [0. 0. 0. 0. 0. 0. 0. 0. 0. 0. 0. 0. 0. 0. 0. 0.]\n",
      " [0. 0. 0. 0. 0. 0. 0. 0. 0. 0. 0. 0. 0. 0. 0. 0.]], shape=(16, 16), dtype=float32)\n"
     ]
    }
   ],
   "source": [
    "t = tf.reshape(t,[16,16])\n",
    "print(t)"
   ]
  },
  {
   "cell_type": "code",
   "execution_count": 52,
   "id": "368728ca-93a2-4a70-bfa3-2bb99f1d8d4b",
   "metadata": {},
   "outputs": [],
   "source": [
    "import matplotlib.pyplot as plt \n",
    "import numpy as np "
   ]
  },
  {
   "cell_type": "code",
   "execution_count": 53,
   "id": "cd567034-72ac-4f3a-a1ef-8c60a83b219f",
   "metadata": {},
   "outputs": [
    {
     "ename": "NameError",
     "evalue": "name 'x' is not defined",
     "output_type": "error",
     "traceback": [
      "\u001b[0;31m---------------------------------------------------------------------------\u001b[0m",
      "\u001b[0;31mNameError\u001b[0m                                 Traceback (most recent call last)",
      "Input \u001b[0;32mIn [53]\u001b[0m, in \u001b[0;36m<cell line: 1>\u001b[0;34m()\u001b[0m\n\u001b[0;32m----> 1\u001b[0m plt\u001b[38;5;241m.\u001b[39mplot(\u001b[43mx\u001b[49m,y,\u001b[38;5;124m'\u001b[39m\u001b[38;5;124mro\u001b[39m\u001b[38;5;124m'\u001b[39m)\n\u001b[1;32m      2\u001b[0m plt\u001b[38;5;241m.\u001b[39maxis([\u001b[38;5;241m0\u001b[39m,\u001b[38;5;241m6\u001b[39m,\u001b[38;5;241m0\u001b[39m,\u001b[38;5;241m20\u001b[39m])\n\u001b[1;32m      3\u001b[0m plt\u001b[38;5;241m.\u001b[39mplot(np\u001b[38;5;241m.\u001b[39munique(x), np\u001b[38;5;241m.\u001b[39mpoly1d(np\u001b[38;5;241m.\u001b[39mpolyfit(x,y,\u001b[38;5;241m1\u001b[39m))(np\u001b[38;5;241m.\u001b[39munique(x)))\n",
      "\u001b[0;31mNameError\u001b[0m: name 'x' is not defined"
     ]
    }
   ],
   "source": [
    "plt.plot(x,y,'ro')\n",
    "plt.axis([0,6,0,20])\n",
    "plt.plot(np.unique(x), np.poly1d(np.polyfit(x,y,1))(np.unique(x)))\n",
    "plt.show()"
   ]
  }
 ],
 "metadata": {
  "kernelspec": {
   "display_name": "Python 3 (ipykernel)",
   "language": "python",
   "name": "python3"
  },
  "language_info": {
   "codemirror_mode": {
    "name": "ipython",
    "version": 3
   },
   "file_extension": ".py",
   "mimetype": "text/x-python",
   "name": "python",
   "nbconvert_exporter": "python",
   "pygments_lexer": "ipython3",
   "version": "3.8.10"
  }
 },
 "nbformat": 4,
 "nbformat_minor": 5
}
