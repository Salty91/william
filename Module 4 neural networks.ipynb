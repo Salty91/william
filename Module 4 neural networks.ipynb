{
 "cells": [
  {
   "cell_type": "code",
   "execution_count": 2,
   "id": "c920bc16-03ff-4f8e-a50c-55bc9ac0fa5f",
   "metadata": {},
   "outputs": [],
   "source": [
    "CUDA_VISIBLE_DEVICES=0\n",
    "import tensorflow as tf\n",
    "from tensorflow import keras\n",
    "\n",
    "import numpy as np\n",
    "import matplotlib.pyplot as plt"
   ]
  },
  {
   "cell_type": "code",
   "execution_count": 3,
   "id": "7a16aa11-fcfd-4a61-a2ad-7e62ca334270",
   "metadata": {},
   "outputs": [],
   "source": [
    "fashion_mnist = keras.datasets.fashion_mnist  # load dataset\n",
    "\n",
    "(train_images, train_labels), (test_images, test_labels) = fashion_mnist.load_data()  # split into tetsing and training"
   ]
  },
  {
   "cell_type": "code",
   "execution_count": 4,
   "id": "da8993ea-67b3-4427-b05f-b9d246a69c11",
   "metadata": {},
   "outputs": [
    {
     "data": {
      "text/plain": [
       "(60000, 28, 28)"
      ]
     },
     "execution_count": 4,
     "metadata": {},
     "output_type": "execute_result"
    }
   ],
   "source": [
    "train_images.shape"
   ]
  },
  {
   "cell_type": "code",
   "execution_count": 5,
   "id": "4adf2b59-2871-4ae7-bec0-86cf54f30567",
   "metadata": {},
   "outputs": [
    {
     "data": {
      "text/plain": [
       "194"
      ]
     },
     "execution_count": 5,
     "metadata": {},
     "output_type": "execute_result"
    }
   ],
   "source": [
    "train_images[0,23,23]  # let's have a look at one pixel"
   ]
  },
  {
   "cell_type": "code",
   "execution_count": 6,
   "id": "64200037-b511-4bab-bab2-7170e051b4d4",
   "metadata": {},
   "outputs": [
    {
     "data": {
      "text/plain": [
       "array([9, 0, 0, 3, 0, 2, 7, 2, 5, 5], dtype=uint8)"
      ]
     },
     "execution_count": 6,
     "metadata": {},
     "output_type": "execute_result"
    }
   ],
   "source": [
    "train_labels[:10]  # let's have a look at the first 10 training labels"
   ]
  },
  {
   "cell_type": "code",
   "execution_count": 7,
   "id": "fd4de3f8-5d47-427e-95f2-b24f3fc5619c",
   "metadata": {},
   "outputs": [],
   "source": [
    "class_names = ['T-shirt/top', 'Trouser', 'Pullover', 'Dress', 'Coat',\n",
    "               'Sandal', 'Shirt', 'Sneaker', 'Bag', 'Ankle boot']"
   ]
  },
  {
   "cell_type": "code",
   "execution_count": 15,
   "id": "67ad8090-0b6c-4228-a631-3c00be667e2b",
   "metadata": {},
   "outputs": [
    {
     "data": {
      "image/png": "[encoded data removed]",
      "text/plain": [
       "<Figure size 432x288 with 2 Axes>"
      ]
     },
     "metadata": {
      "needs_background": "light"
     },
     "output_type": "display_data"
    }
   ],
   "source": [
    "plt.figure()\n",
    "plt.imshow(train_images[59999])\n",
    "plt.colorbar()\n",
    "plt.grid(False)\n",
    "plt.show()"
   ]
  },
  {
   "cell_type": "code",
   "execution_count": 16,
   "id": "2405eb0b-e592-42b0-9eb3-46281da472a4",
   "metadata": {},
   "outputs": [],
   "source": [
    "train_images = train_images / 255.0\n",
    "\n",
    "test_images = test_images / 255.0"
   ]
  },
  {
   "cell_type": "code",
   "execution_count": 21,
   "id": "02b93cba-dc6b-4992-bff7-e3e0d3abeb28",
   "metadata": {},
   "outputs": [],
   "source": [
    "model = keras.Sequential([\n",
    "    keras.layers.Flatten(input_shape=(28, 28)),  # input layer (1)\n",
    "    keras.layers.Dense(128, activation='relu'),  # hidden layer (2)\n",
    "    keras.layers.Dense(10, activation='softmax') # output layer (3)\n",
    "])"
   ]
  },
  {
   "cell_type": "code",
   "execution_count": 23,
   "id": "c8b44eee-5676-4345-b2d6-06e427c35c73",
   "metadata": {},
   "outputs": [],
   "source": [
    "model.compile(optimizer='adam',\n",
    "              loss='sparse_categorical_crossentropy',\n",
    "              metrics=['accuracy'])"
   ]
  },
  {
   "cell_type": "code",
   "execution_count": 25,
   "id": "a7cd0d61-ae42-4df1-a4a0-07900203aec6",
   "metadata": {},
   "outputs": [
    {
     "name": "stdout",
     "output_type": "stream",
     "text": [
      "Epoch 1/8\n",
      "1875/1875 [==============================] - 4s 2ms/step - loss: 0.4981 - accuracy: 0.8243\n",
      "Epoch 2/8\n",
      "1875/1875 [==============================] - 5s 2ms/step - loss: 0.3744 - accuracy: 0.8648\n",
      "Epoch 3/8\n",
      "1875/1875 [==============================] - 6s 3ms/step - loss: 0.3355 - accuracy: 0.8783\n",
      "Epoch 4/8\n",
      "1875/1875 [==============================] - 6s 3ms/step - loss: 0.3123 - accuracy: 0.8850\n",
      "Epoch 5/8\n",
      "1875/1875 [==============================] - 6s 3ms/step - loss: 0.2942 - accuracy: 0.8909\n",
      "Epoch 6/8\n",
      "1875/1875 [==============================] - 5s 3ms/step - loss: 0.2786 - accuracy: 0.8975\n",
      "Epoch 7/8\n",
      "1875/1875 [==============================] - 4s 2ms/step - loss: 0.2668 - accuracy: 0.9021\n",
      "Epoch 8/8\n",
      "1875/1875 [==============================] - 4s 2ms/step - loss: 0.2582 - accuracy: 0.9039\n"
     ]
    },
    {
     "data": {
      "text/plain": [
       "<keras.callbacks.History at 0x7f2c640fc400>"
      ]
     },
     "execution_count": 25,
     "metadata": {},
     "output_type": "execute_result"
    }
   ],
   "source": [
    "model.fit(train_images, train_labels, epochs=8)  # we pass the data, labels and epochs and watch the magic!"
   ]
  },
  {
   "cell_type": "code",
   "execution_count": 27,
   "id": "ba8406ac-ed38-4d9d-855b-f7195621431b",
   "metadata": {},
   "outputs": [
    {
     "name": "stdout",
     "output_type": "stream",
     "text": [
      "313/313 [==============================] - 0s 1ms/step - loss: 0.3323 - accuracy: 0.8812\n",
      "Test accuracy: 0.8812000155448914\n"
     ]
    }
   ],
   "source": [
    "test_loss, test_acc = model.evaluate(test_images,  test_labels, verbose=1) \n",
    "\n",
    "print('Test accuracy:', test_acc)"
   ]
  },
  {
   "cell_type": "code",
   "execution_count": 35,
   "id": "8dd46946-d09f-4ee6-bc76-fcb691758b54",
   "metadata": {},
   "outputs": [
    {
     "name": "stdout",
     "output_type": "stream",
     "text": [
      "313/313 [==============================] - 0s 981us/step\n",
      "Coat\n"
     ]
    },
    {
     "data": {
      "image/png": "[encoded data removed]",
      "text/plain": [
       "<Figure size 432x288 with 2 Axes>"
      ]
     },
     "metadata": {
      "needs_background": "light"
     },
     "output_type": "display_data"
    }
   ],
   "source": [
    "predictions = model.predict(test_images)\n",
    "print(class_names[np.argmax(predictions[6])])\n",
    "plt.figure()\n",
    "plt.imshow(test_images[6])\n",
    "plt.colorbar()\n",
    "plt.grid(False)\n",
    "plt.show()"
   ]
  },
  {
   "cell_type": "code",
   "execution_count": 40,
   "id": "0a81fe19-89ee-47a9-9bd9-90861646aa26",
   "metadata": {},
   "outputs": [
    {
     "name": "stdin",
     "output_type": "stream",
     "text": [
      "Pick a number:  5\n"
     ]
    },
    {
     "name": "stdout",
     "output_type": "stream",
     "text": [
      "1/1 [==============================] - 0s 20ms/step\n"
     ]
    },
    {
     "data": {
      "image/png": "[encoded data removed]",
      "text/plain": [
       "<Figure size 432x288 with 2 Axes>"
      ]
     },
     "metadata": {
      "needs_background": "light"
     },
     "output_type": "display_data"
    }
   ],
   "source": [
    "COLOR = 'white'\n",
    "plt.rcParams['text.color'] = COLOR\n",
    "plt.rcParams['axes.labelcolor'] = COLOR\n",
    "\n",
    "def predict(model, image, correct_label):\n",
    "  class_names = ['T-shirt/top', 'Trouser', 'Pullover', 'Dress', 'Coat',\n",
    "               'Sandal', 'Shirt', 'Sneaker', 'Bag', 'Ankle boot']\n",
    "  prediction = model.predict(np.array([image]))\n",
    "  predicted_class = class_names[np.argmax(prediction)]\n",
    "\n",
    "  show_image(image, class_names[correct_label], predicted_class)\n",
    "\n",
    "\n",
    "def show_image(img, label, guess):\n",
    "  plt.figure()\n",
    "  plt.imshow(img, cmap=plt.cm.binary)\n",
    "  plt.title(\"Excpected: \" + label)\n",
    "  plt.xlabel(\"Guess: \" + guess)\n",
    "  plt.colorbar()\n",
    "  plt.grid(False)\n",
    "  plt.show()\n",
    "\n",
    "\n",
    "def get_number():\n",
    "  while True:\n",
    "    num = input(\"Pick a number: \")\n",
    "    if num.isdigit():\n",
    "      num = int(num)\n",
    "      if 0 <= num <= 59999:\n",
    "        return int(num)\n",
    "    else:\n",
    "      print(\"Try again...\")\n",
    "\n",
    "num = get_number()\n",
    "image = test_images[num]\n",
    "label = test_labels[num]\n",
    "predict(model, image, label)\n"
   ]
  }
 ],
 "metadata": {
  "kernelspec": {
   "display_name": "Python 3 (ipykernel)",
   "language": "python",
   "name": "python3"
  },
  "language_info": {
   "codemirror_mode": {
    "name": "ipython",
    "version": 3
   },
   "file_extension": ".py",
   "mimetype": "text/x-python",
   "name": "python",
   "nbconvert_exporter": "python",
   "pygments_lexer": "ipython3",
   "version": "3.8.10"
  }
 },
 "nbformat": 4,
 "nbformat_minor": 5
}
