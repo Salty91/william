{
 "cells": [
  {
   "cell_type": "code",
   "execution_count": 3,
   "id": "7eaca5c9-9fab-49ed-a5e1-21f810fad2b0",
   "metadata": {},
   "outputs": [],
   "source": [
    "CUDA_VISIBLE_DEVICES=0\n",
    "\n",
    "from __future__ import absolute_import, division, print_function, unicode_literals\n",
    "\n",
    "import tensorflow as tf\n",
    "\n",
    "import pandas as pd"
   ]
  },
  {
   "cell_type": "code",
   "execution_count": 4,
   "id": "7af9009b-f683-4f46-93b8-11ad2340c8e8",
   "metadata": {},
   "outputs": [],
   "source": [
    "CSV_COLUMN_NAMES = ['SepalLength', 'SepalWidth', 'PetalLength', 'PetalWidth', 'Species']\n",
    "SPECIES = ['Setosa', 'Versicolor', 'Virginica']\n",
    "# Lets define some constants to help us later on"
   ]
  },
  {
   "cell_type": "code",
   "execution_count": 5,
   "id": "82ecc647-696c-48f3-a999-b5d764f7232a",
   "metadata": {},
   "outputs": [],
   "source": [
    "train_path = tf.keras.utils.get_file(\n",
    "    \"iris_training.csv\", \"https://storage.googleapis.com/download.tensorflow.org/data/iris_training.csv\")\n",
    "test_path = tf.keras.utils.get_file(\n",
    "    \"iris_test.csv\", \"https://storage.googleapis.com/download.tensorflow.org/data/iris_test.csv\")\n",
    "\n",
    "train = pd.read_csv(train_path, names=CSV_COLUMN_NAMES, header=0)\n",
    "test = pd.read_csv(test_path, names=CSV_COLUMN_NAMES, header=0)\n",
    "# Here we use keras (a module inside of TensorFlow) to grab our datasets and read them into a pandas dataframe"
   ]
  },
  {
   "cell_type": "code",
   "execution_count": 6,
   "id": "f2c15d64-5e96-4796-943e-b0831cc22b51",
   "metadata": {},
   "outputs": [
    {
     "data": {
      "text/html": [
       "<div>\n",
       "<style scoped>\n",
       "    .dataframe tbody tr th:only-of-type {\n",
       "        vertical-align: middle;\n",
       "    }\n",
       "\n",
       "    .dataframe tbody tr th {\n",
       "        vertical-align: top;\n",
       "    }\n",
       "\n",
       "    .dataframe thead th {\n",
       "        text-align: right;\n",
       "    }\n",
       "</style>\n",
       "<table border=\"1\" class=\"dataframe\">\n",
       "  <thead>\n",
       "    <tr style=\"text-align: right;\">\n",
       "      <th></th>\n",
       "      <th>SepalLength</th>\n",
       "      <th>SepalWidth</th>\n",
       "      <th>PetalLength</th>\n",
       "      <th>PetalWidth</th>\n",
       "      <th>Species</th>\n",
       "    </tr>\n",
       "  </thead>\n",
       "  <tbody>\n",
       "    <tr>\n",
       "      <th>0</th>\n",
       "      <td>6.4</td>\n",
       "      <td>2.8</td>\n",
       "      <td>5.6</td>\n",
       "      <td>2.2</td>\n",
       "      <td>2</td>\n",
       "    </tr>\n",
       "    <tr>\n",
       "      <th>1</th>\n",
       "      <td>5.0</td>\n",
       "      <td>2.3</td>\n",
       "      <td>3.3</td>\n",
       "      <td>1.0</td>\n",
       "      <td>1</td>\n",
       "    </tr>\n",
       "    <tr>\n",
       "      <th>2</th>\n",
       "      <td>4.9</td>\n",
       "      <td>2.5</td>\n",
       "      <td>4.5</td>\n",
       "      <td>1.7</td>\n",
       "      <td>2</td>\n",
       "    </tr>\n",
       "    <tr>\n",
       "      <th>3</th>\n",
       "      <td>4.9</td>\n",
       "      <td>3.1</td>\n",
       "      <td>1.5</td>\n",
       "      <td>0.1</td>\n",
       "      <td>0</td>\n",
       "    </tr>\n",
       "    <tr>\n",
       "      <th>4</th>\n",
       "      <td>5.7</td>\n",
       "      <td>3.8</td>\n",
       "      <td>1.7</td>\n",
       "      <td>0.3</td>\n",
       "      <td>0</td>\n",
       "    </tr>\n",
       "  </tbody>\n",
       "</table>\n",
       "</div>"
      ],
      "text/plain": [
       "   SepalLength  SepalWidth  PetalLength  PetalWidth  Species\n",
       "0          6.4         2.8          5.6         2.2        2\n",
       "1          5.0         2.3          3.3         1.0        1\n",
       "2          4.9         2.5          4.5         1.7        2\n",
       "3          4.9         3.1          1.5         0.1        0\n",
       "4          5.7         3.8          1.7         0.3        0"
      ]
     },
     "execution_count": 6,
     "metadata": {},
     "output_type": "execute_result"
    }
   ],
   "source": [
    "train.head()"
   ]
  },
  {
   "cell_type": "code",
   "execution_count": 7,
   "id": "01300407-78ea-499d-96df-7bf880a3259f",
   "metadata": {},
   "outputs": [
    {
     "data": {
      "text/html": [
       "<div>\n",
       "<style scoped>\n",
       "    .dataframe tbody tr th:only-of-type {\n",
       "        vertical-align: middle;\n",
       "    }\n",
       "\n",
       "    .dataframe tbody tr th {\n",
       "        vertical-align: top;\n",
       "    }\n",
       "\n",
       "    .dataframe thead th {\n",
       "        text-align: right;\n",
       "    }\n",
       "</style>\n",
       "<table border=\"1\" class=\"dataframe\">\n",
       "  <thead>\n",
       "    <tr style=\"text-align: right;\">\n",
       "      <th></th>\n",
       "      <th>SepalLength</th>\n",
       "      <th>SepalWidth</th>\n",
       "      <th>PetalLength</th>\n",
       "      <th>PetalWidth</th>\n",
       "    </tr>\n",
       "  </thead>\n",
       "  <tbody>\n",
       "    <tr>\n",
       "      <th>0</th>\n",
       "      <td>6.4</td>\n",
       "      <td>2.8</td>\n",
       "      <td>5.6</td>\n",
       "      <td>2.2</td>\n",
       "    </tr>\n",
       "    <tr>\n",
       "      <th>1</th>\n",
       "      <td>5.0</td>\n",
       "      <td>2.3</td>\n",
       "      <td>3.3</td>\n",
       "      <td>1.0</td>\n",
       "    </tr>\n",
       "    <tr>\n",
       "      <th>2</th>\n",
       "      <td>4.9</td>\n",
       "      <td>2.5</td>\n",
       "      <td>4.5</td>\n",
       "      <td>1.7</td>\n",
       "    </tr>\n",
       "    <tr>\n",
       "      <th>3</th>\n",
       "      <td>4.9</td>\n",
       "      <td>3.1</td>\n",
       "      <td>1.5</td>\n",
       "      <td>0.1</td>\n",
       "    </tr>\n",
       "    <tr>\n",
       "      <th>4</th>\n",
       "      <td>5.7</td>\n",
       "      <td>3.8</td>\n",
       "      <td>1.7</td>\n",
       "      <td>0.3</td>\n",
       "    </tr>\n",
       "  </tbody>\n",
       "</table>\n",
       "</div>"
      ],
      "text/plain": [
       "   SepalLength  SepalWidth  PetalLength  PetalWidth\n",
       "0          6.4         2.8          5.6         2.2\n",
       "1          5.0         2.3          3.3         1.0\n",
       "2          4.9         2.5          4.5         1.7\n",
       "3          4.9         3.1          1.5         0.1\n",
       "4          5.7         3.8          1.7         0.3"
      ]
     },
     "execution_count": 7,
     "metadata": {},
     "output_type": "execute_result"
    }
   ],
   "source": [
    "train_y = train.pop('Species')\n",
    "test_y = test.pop('Species')\n",
    "train.head() # the species column is now gone"
   ]
  },
  {
   "cell_type": "code",
   "execution_count": 8,
   "id": "ba35137f-c859-45f7-97ba-206f97d9b6b0",
   "metadata": {},
   "outputs": [
    {
     "data": {
      "text/plain": [
       "0    2\n",
       "1    1\n",
       "2    2\n",
       "3    0\n",
       "4    0\n",
       "Name: Species, dtype: int64"
      ]
     },
     "execution_count": 8,
     "metadata": {},
     "output_type": "execute_result"
    }
   ],
   "source": [
    "train_y.head()"
   ]
  },
  {
   "cell_type": "code",
   "execution_count": 9,
   "id": "2a1ddf8e-b674-4613-a3ba-31b2bce07b73",
   "metadata": {},
   "outputs": [
    {
     "data": {
      "text/plain": [
       "(120, 4)"
      ]
     },
     "execution_count": 9,
     "metadata": {},
     "output_type": "execute_result"
    }
   ],
   "source": [
    "train.shape"
   ]
  },
  {
   "cell_type": "code",
   "execution_count": 10,
   "id": "6b0fe897-348c-43b9-8de2-335133a6df61",
   "metadata": {},
   "outputs": [],
   "source": [
    "def input_fn(features, labels, training=True, batch_size=256):\n",
    "    # Convert the inputs to a Dataset.\n",
    "    dataset = tf.data.Dataset.from_tensor_slices((dict(features), labels))\n",
    "\n",
    "    # Shuffle and repeat if you are in training mode.\n",
    "    if training:\n",
    "        dataset = dataset.shuffle(1000).repeat()\n",
    "    \n",
    "    return dataset.batch(batch_size)"
   ]
  },
  {
   "cell_type": "code",
   "execution_count": 13,
   "id": "ad193876-ea81-4421-8d02-43cfe9044b91",
   "metadata": {},
   "outputs": [],
   "source": [
    "# old\n",
    "\n",
    "# def make_input_fn(data_df, label_df, num_epochs=10, shuffle=True, batch_size=32):\n",
    "#   def input_function():  # inner function, this will be returned\n",
    "#     ds = tf.data.Dataset.from_tensor_slices((dict(data_df), label_df))  # create tf.data.Dataset object with data and its label\n",
    "#     if shuffle:\n",
    "#       ds = ds.shuffle(1000)  # randomize order of data\n",
    "#     ds = ds.batch(batch_size).repeat(num_epochs)  # split dataset into batches of 32 and repeat process for number of epochs\n",
    "#     return ds  # return a batch of the dataset\n",
    "#   return input_function  # return a function object for use"
   ]
  },
  {
   "cell_type": "code",
   "execution_count": 11,
   "id": "bbd408ec-fd7e-4385-b50c-c289dc84482c",
   "metadata": {},
   "outputs": [
    {
     "name": "stdout",
     "output_type": "stream",
     "text": [
      "[NumericColumn(key='SepalLength', shape=(1,), default_value=None, dtype=tf.float32, normalizer_fn=None), NumericColumn(key='SepalWidth', shape=(1,), default_value=None, dtype=tf.float32, normalizer_fn=None), NumericColumn(key='PetalLength', shape=(1,), default_value=None, dtype=tf.float32, normalizer_fn=None), NumericColumn(key='PetalWidth', shape=(1,), default_value=None, dtype=tf.float32, normalizer_fn=None)]\n"
     ]
    }
   ],
   "source": [
    "# Feature columns describe how to use the input.\n",
    "my_feature_columns = []\n",
    "for key in train.keys():\n",
    "    my_feature_columns.append(tf.feature_column.numeric_column(key=key))\n",
    "print(my_feature_columns)"
   ]
  },
  {
   "cell_type": "code",
   "execution_count": 13,
   "id": "225f087a-3a1d-4247-907f-be8ac99e479d",
   "metadata": {},
   "outputs": [
    {
     "name": "stdout",
     "output_type": "stream",
     "text": [
      "INFO:tensorflow:Using default config.\n",
      "WARNING:tensorflow:Using temporary folder as model directory: /tmp/tmpvqr35gw5\n",
      "INFO:tensorflow:Using config: {'_model_dir': '/tmp/tmpvqr35gw5', '_tf_random_seed': None, '_save_summary_steps': 100, '_save_checkpoints_steps': None, '_save_checkpoints_secs': 600, '_session_config': allow_soft_placement: true\n",
      "graph_options {\n",
      "  rewrite_options {\n",
      "    meta_optimizer_iterations: ONE\n",
      "  }\n",
      "}\n",
      ", '_keep_checkpoint_max': 5, '_keep_checkpoint_every_n_hours': 10000, '_log_step_count_steps': 100, '_train_distribute': None, '_device_fn': None, '_protocol': None, '_eval_distribute': None, '_experimental_distribute': None, '_experimental_max_worker_delay_secs': None, '_session_creation_timeout_secs': 7200, '_checkpoint_save_graph_def': True, '_service': None, '_cluster_spec': ClusterSpec({}), '_task_type': 'worker', '_task_id': 0, '_global_id_in_cluster': 0, '_master': '', '_evaluation_master': '', '_is_chief': True, '_num_ps_replicas': 0, '_num_worker_replicas': 1}\n"
     ]
    }
   ],
   "source": [
    "# Build a DNN with 2 hidden layers with 30 and 10 hidden nodes each.\n",
    "classifier = tf.estimator.DNNClassifier(\n",
    "    feature_columns=my_feature_columns,\n",
    "    # Two hidden layers of 30 and 10 nodes respectively.\n",
    "    hidden_units=[30, 10],\n",
    "    # The model must choose between 3 classes.\n",
    "    n_classes=3)"
   ]
  },
  {
   "cell_type": "code",
   "execution_count": 14,
   "id": "84ed8dec-4585-48e8-8b1e-be9c3c3d25f6",
   "metadata": {},
   "outputs": [
    {
     "name": "stdout",
     "output_type": "stream",
     "text": [
      "WARNING:tensorflow:From /home/charlie-chin/.local/lib/python3.8/site-packages/tensorflow/python/training/training_util.py:396: Variable.initialized_value (from tensorflow.python.ops.variables) is deprecated and will be removed in a future version.\n",
      "Instructions for updating:\n",
      "Use Variable.read_value. Variables in 2.X are initialized automatically both in eager and graph (inside tf.defun) contexts.\n",
      "INFO:tensorflow:Calling model_fn.\n",
      "WARNING:tensorflow:From /home/charlie-chin/.local/lib/python3.8/site-packages/keras/optimizers/optimizer_v2/adagrad.py:86: calling Constant.__init__ (from tensorflow.python.ops.init_ops) with dtype is deprecated and will be removed in a future version.\n",
      "Instructions for updating:\n",
      "Call initializer instance with the dtype argument instead of passing it to the constructor\n",
      "INFO:tensorflow:Done calling model_fn.\n",
      "INFO:tensorflow:Create CheckpointSaverHook.\n",
      "INFO:tensorflow:Graph was finalized.\n"
     ]
    },
    {
     "name": "stderr",
     "output_type": "stream",
     "text": [
      "2022-05-31 22:18:59.466826: I tensorflow/compiler/mlir/mlir_graph_optimization_pass.cc:354] MLIR V1 optimization pass is not enabled\n",
      "2022-05-31 22:18:59.529617: W tensorflow/core/common_runtime/forward_type_inference.cc:231] Type inference failed. This indicates an invalid graph that escaped type checking. Error message: INVALID_ARGUMENT: expected compatible input types, but input 1:\n",
      "type_id: TFT_OPTIONAL\n",
      "args {\n",
      "  type_id: TFT_PRODUCT\n",
      "  args {\n",
      "    type_id: TFT_TENSOR\n",
      "    args {\n",
      "      type_id: TFT_INT64\n",
      "    }\n",
      "  }\n",
      "}\n",
      " is neither a subtype nor a supertype of the combined inputs preceding it:\n",
      "type_id: TFT_OPTIONAL\n",
      "args {\n",
      "  type_id: TFT_PRODUCT\n",
      "  args {\n",
      "    type_id: TFT_TENSOR\n",
      "    args {\n",
      "      type_id: TFT_INT32\n",
      "    }\n",
      "  }\n",
      "}\n",
      "\n",
      "\twhile inferring type of node 'dnn/zero_fraction/cond/output/_18'\n"
     ]
    },
    {
     "name": "stdout",
     "output_type": "stream",
     "text": [
      "INFO:tensorflow:Running local_init_op.\n",
      "INFO:tensorflow:Done running local_init_op.\n",
      "INFO:tensorflow:Calling checkpoint listeners before saving checkpoint 0...\n",
      "INFO:tensorflow:Saving checkpoints for 0 into /tmp/tmpvqr35gw5/model.ckpt.\n",
      "INFO:tensorflow:/tmp/tmpvqr35gw5/model.ckpt-0.index\n",
      "INFO:tensorflow:0\n",
      "INFO:tensorflow:/tmp/tmpvqr35gw5/model.ckpt-0.meta\n",
      "INFO:tensorflow:100\n",
      "INFO:tensorflow:/tmp/tmpvqr35gw5/model.ckpt-0.data-00000-of-00001\n",
      "INFO:tensorflow:100\n",
      "INFO:tensorflow:Calling checkpoint listeners after saving checkpoint 0...\n",
      "INFO:tensorflow:loss = 2.9810724, step = 0\n",
      "INFO:tensorflow:global_step/sec: 373.78\n",
      "INFO:tensorflow:loss = 1.5461428, step = 100 (0.268 sec)\n",
      "INFO:tensorflow:global_step/sec: 333.807\n",
      "INFO:tensorflow:loss = 1.2266266, step = 200 (0.301 sec)\n",
      "INFO:tensorflow:global_step/sec: 360.949\n",
      "INFO:tensorflow:loss = 0.99736166, step = 300 (0.276 sec)\n",
      "INFO:tensorflow:global_step/sec: 403.993\n",
      "INFO:tensorflow:loss = 0.8768196, step = 400 (0.250 sec)\n",
      "INFO:tensorflow:global_step/sec: 295.937\n",
      "INFO:tensorflow:loss = 0.8183435, step = 500 (0.337 sec)\n",
      "INFO:tensorflow:global_step/sec: 344.74\n",
      "INFO:tensorflow:loss = 0.769832, step = 600 (0.290 sec)\n",
      "INFO:tensorflow:global_step/sec: 488.487\n",
      "INFO:tensorflow:loss = 0.7467171, step = 700 (0.203 sec)\n",
      "INFO:tensorflow:global_step/sec: 376.18\n",
      "INFO:tensorflow:loss = 0.713305, step = 800 (0.268 sec)\n",
      "INFO:tensorflow:global_step/sec: 321.78\n",
      "INFO:tensorflow:loss = 0.6761681, step = 900 (0.311 sec)\n",
      "INFO:tensorflow:global_step/sec: 375.338\n",
      "INFO:tensorflow:loss = 0.6654276, step = 1000 (0.266 sec)\n",
      "INFO:tensorflow:global_step/sec: 446.448\n",
      "INFO:tensorflow:loss = 0.62912, step = 1100 (0.223 sec)\n",
      "INFO:tensorflow:global_step/sec: 476.061\n",
      "INFO:tensorflow:loss = 0.62645876, step = 1200 (0.210 sec)\n",
      "INFO:tensorflow:global_step/sec: 475.123\n",
      "INFO:tensorflow:loss = 0.6108718, step = 1300 (0.210 sec)\n",
      "INFO:tensorflow:global_step/sec: 463.104\n",
      "INFO:tensorflow:loss = 0.5854859, step = 1400 (0.217 sec)\n",
      "INFO:tensorflow:global_step/sec: 500.443\n",
      "INFO:tensorflow:loss = 0.5845505, step = 1500 (0.199 sec)\n",
      "INFO:tensorflow:global_step/sec: 501.026\n",
      "INFO:tensorflow:loss = 0.55017936, step = 1600 (0.200 sec)\n",
      "INFO:tensorflow:global_step/sec: 479.762\n",
      "INFO:tensorflow:loss = 0.56078124, step = 1700 (0.208 sec)\n",
      "INFO:tensorflow:global_step/sec: 477.596\n",
      "INFO:tensorflow:loss = 0.54647505, step = 1800 (0.209 sec)\n",
      "INFO:tensorflow:global_step/sec: 401.138\n",
      "INFO:tensorflow:loss = 0.53266025, step = 1900 (0.250 sec)\n",
      "INFO:tensorflow:global_step/sec: 470.615\n",
      "INFO:tensorflow:loss = 0.52648544, step = 2000 (0.212 sec)\n",
      "INFO:tensorflow:global_step/sec: 493.295\n",
      "INFO:tensorflow:loss = 0.5217337, step = 2100 (0.203 sec)\n",
      "INFO:tensorflow:global_step/sec: 399.563\n",
      "INFO:tensorflow:loss = 0.50347054, step = 2200 (0.251 sec)\n",
      "INFO:tensorflow:global_step/sec: 397.667\n",
      "INFO:tensorflow:loss = 0.4903332, step = 2300 (0.250 sec)\n",
      "INFO:tensorflow:global_step/sec: 515.636\n",
      "INFO:tensorflow:loss = 0.48622784, step = 2400 (0.194 sec)\n",
      "INFO:tensorflow:global_step/sec: 472.858\n",
      "INFO:tensorflow:loss = 0.47526914, step = 2500 (0.212 sec)\n",
      "INFO:tensorflow:global_step/sec: 461.776\n",
      "INFO:tensorflow:loss = 0.4766341, step = 2600 (0.216 sec)\n",
      "INFO:tensorflow:global_step/sec: 459.607\n",
      "INFO:tensorflow:loss = 0.46314442, step = 2700 (0.218 sec)\n",
      "INFO:tensorflow:global_step/sec: 478.388\n",
      "INFO:tensorflow:loss = 0.44931108, step = 2800 (0.209 sec)\n",
      "INFO:tensorflow:global_step/sec: 468.786\n",
      "INFO:tensorflow:loss = 0.44458082, step = 2900 (0.214 sec)\n",
      "INFO:tensorflow:global_step/sec: 494.807\n",
      "INFO:tensorflow:loss = 0.44467342, step = 3000 (0.202 sec)\n",
      "INFO:tensorflow:global_step/sec: 480.105\n",
      "INFO:tensorflow:loss = 0.44220656, step = 3100 (0.208 sec)\n",
      "INFO:tensorflow:global_step/sec: 477.469\n",
      "INFO:tensorflow:loss = 0.4287818, step = 3200 (0.209 sec)\n",
      "INFO:tensorflow:global_step/sec: 405.975\n",
      "INFO:tensorflow:loss = 0.42800623, step = 3300 (0.248 sec)\n",
      "INFO:tensorflow:global_step/sec: 292.399\n",
      "INFO:tensorflow:loss = 0.42159325, step = 3400 (0.344 sec)\n",
      "INFO:tensorflow:global_step/sec: 401.722\n",
      "INFO:tensorflow:loss = 0.4238632, step = 3500 (0.249 sec)\n",
      "INFO:tensorflow:global_step/sec: 407.064\n",
      "INFO:tensorflow:loss = 0.4176485, step = 3600 (0.242 sec)\n",
      "INFO:tensorflow:global_step/sec: 497.096\n",
      "INFO:tensorflow:loss = 0.4110005, step = 3700 (0.201 sec)\n",
      "INFO:tensorflow:global_step/sec: 486.125\n",
      "INFO:tensorflow:loss = 0.41077045, step = 3800 (0.206 sec)\n",
      "INFO:tensorflow:global_step/sec: 489.23\n",
      "INFO:tensorflow:loss = 0.4045589, step = 3900 (0.204 sec)\n",
      "INFO:tensorflow:global_step/sec: 481.127\n",
      "INFO:tensorflow:loss = 0.40131578, step = 4000 (0.208 sec)\n",
      "INFO:tensorflow:global_step/sec: 479.665\n",
      "INFO:tensorflow:loss = 0.39169154, step = 4100 (0.209 sec)\n",
      "INFO:tensorflow:global_step/sec: 413.6\n",
      "INFO:tensorflow:loss = 0.38653582, step = 4200 (0.243 sec)\n",
      "INFO:tensorflow:global_step/sec: 367.471\n",
      "INFO:tensorflow:loss = 0.38784206, step = 4300 (0.271 sec)\n",
      "INFO:tensorflow:global_step/sec: 465.541\n",
      "INFO:tensorflow:loss = 0.38741744, step = 4400 (0.215 sec)\n",
      "INFO:tensorflow:global_step/sec: 322.047\n",
      "INFO:tensorflow:loss = 0.37917507, step = 4500 (0.311 sec)\n",
      "INFO:tensorflow:global_step/sec: 296.407\n",
      "INFO:tensorflow:loss = 0.378139, step = 4600 (0.338 sec)\n",
      "INFO:tensorflow:global_step/sec: 297.675\n",
      "INFO:tensorflow:loss = 0.36023375, step = 4700 (0.335 sec)\n",
      "INFO:tensorflow:global_step/sec: 292.22\n",
      "INFO:tensorflow:loss = 0.36321032, step = 4800 (0.343 sec)\n",
      "INFO:tensorflow:global_step/sec: 297.376\n",
      "INFO:tensorflow:loss = 0.3637204, step = 4900 (0.337 sec)\n",
      "INFO:tensorflow:Calling checkpoint listeners before saving checkpoint 5000...\n",
      "INFO:tensorflow:Saving checkpoints for 5000 into /tmp/tmpvqr35gw5/model.ckpt.\n",
      "INFO:tensorflow:/tmp/tmpvqr35gw5/model.ckpt-5000.index\n",
      "INFO:tensorflow:0\n",
      "INFO:tensorflow:/tmp/tmpvqr35gw5/model.ckpt-5000.meta\n",
      "INFO:tensorflow:100\n",
      "INFO:tensorflow:/tmp/tmpvqr35gw5/model.ckpt-5000.data-00000-of-00001\n",
      "INFO:tensorflow:100\n",
      "INFO:tensorflow:Calling checkpoint listeners after saving checkpoint 5000...\n",
      "INFO:tensorflow:Loss for final step: 0.35927248.\n"
     ]
    },
    {
     "data": {
      "text/plain": [
       "<tensorflow_estimator.python.estimator.canned.dnn.DNNClassifierV2 at 0x7ff2dab18940>"
      ]
     },
     "execution_count": 14,
     "metadata": {},
     "output_type": "execute_result"
    }
   ],
   "source": [
    "classifier.train(\n",
    "    input_fn=lambda: input_fn(train, train_y, training=True),\n",
    "    steps=5000)\n",
    "# We include a lambda to avoid creating an inner function previously (!)"
   ]
  },
  {
   "cell_type": "code",
   "execution_count": 15,
   "id": "0ec3a651-5b44-4119-b947-6f4554d1315f",
   "metadata": {},
   "outputs": [
    {
     "name": "stdout",
     "output_type": "stream",
     "text": [
      "INFO:tensorflow:Calling model_fn.\n",
      "INFO:tensorflow:Done calling model_fn.\n",
      "INFO:tensorflow:Starting evaluation at 2022-05-31T22:19:25\n",
      "INFO:tensorflow:Graph was finalized.\n",
      "INFO:tensorflow:Restoring parameters from /tmp/tmpvqr35gw5/model.ckpt-5000\n",
      "INFO:tensorflow:Running local_init_op.\n",
      "INFO:tensorflow:Done running local_init_op.\n",
      "INFO:tensorflow:Inference Time : 0.80402s\n",
      "INFO:tensorflow:Finished evaluation at 2022-05-31-22:19:25\n",
      "INFO:tensorflow:Saving dict for global step 5000: accuracy = 0.9, average_loss = 0.41729185, global_step = 5000, loss = 0.41729185\n",
      "INFO:tensorflow:Saving 'checkpoint_path' summary for global step 5000: /tmp/tmpvqr35gw5/model.ckpt-5000\n",
      "\n",
      "Test set accuracy: 0.900\n",
      "\n"
     ]
    }
   ],
   "source": [
    "eval_result = classifier.evaluate(\n",
    "    input_fn=lambda: input_fn(test, test_y, training=False))\n",
    "\n",
    "print('\\nTest set accuracy: {accuracy:0.3f}\\n'.format(**eval_result))"
   ]
  },
  {
   "cell_type": "code",
   "execution_count": 16,
   "id": "1269403d-1de9-4c8b-bab7-be545f02d884",
   "metadata": {},
   "outputs": [
    {
     "data": {
      "text/plain": [
       "0      2\n",
       "1      1\n",
       "2      2\n",
       "3      0\n",
       "4      0\n",
       "      ..\n",
       "115    1\n",
       "116    1\n",
       "117    0\n",
       "118    0\n",
       "119    1\n",
       "Name: Species, Length: 120, dtype: int64"
      ]
     },
     "execution_count": 16,
     "metadata": {},
     "output_type": "execute_result"
    }
   ],
   "source": [
    "train_y.head(250)"
   ]
  },
  {
   "cell_type": "code",
   "execution_count": 17,
   "id": "ae8a8d81-d5ba-435a-918c-4f1b3d6ca2db",
   "metadata": {},
   "outputs": [
    {
     "name": "stdout",
     "output_type": "stream",
     "text": [
      "Please type numeric values as prompted.\n"
     ]
    },
    {
     "name": "stdin",
     "output_type": "stream",
     "text": [
      "SepalLength:  5.0\n",
      "SepalWidth:  2.3\n",
      "PetalLength:  3.1\n",
      "PetalWidth:  1.2\n"
     ]
    },
    {
     "name": "stdout",
     "output_type": "stream",
     "text": [
      "INFO:tensorflow:Calling model_fn.\n",
      "INFO:tensorflow:Done calling model_fn.\n",
      "INFO:tensorflow:Graph was finalized.\n",
      "INFO:tensorflow:Restoring parameters from /tmp/tmpvqr35gw5/model.ckpt-5000\n",
      "INFO:tensorflow:Running local_init_op.\n",
      "INFO:tensorflow:Done running local_init_op.\n",
      "Prediction is \"Versicolor\" (56.4%)\n"
     ]
    }
   ],
   "source": [
    "def input_fn(features, batch_size=256):\n",
    "    # Convert the inputs to a Dataset without labels.\n",
    "    return tf.data.Dataset.from_tensor_slices(dict(features)).batch(batch_size)\n",
    "\n",
    "features = ['SepalLength', 'SepalWidth', 'PetalLength', 'PetalWidth']\n",
    "predict = {}\n",
    "\n",
    "print(\"Please type numeric values as prompted.\")\n",
    "for feature in features:\n",
    "  valid = True\n",
    "  while valid: \n",
    "    val = input(feature + \": \")\n",
    "    if not val.isdigit(): valid = False\n",
    "\n",
    "  predict[feature] = [float(val)]\n",
    "\n",
    "predictions = classifier.predict(input_fn=lambda: input_fn(predict))\n",
    "for pred_dict in predictions:\n",
    "    class_id = pred_dict['class_ids'][0]\n",
    "    probability = pred_dict['probabilities'][class_id]\n",
    "\n",
    "    print('Prediction is \"{}\" ({:.1f}%)'.format(\n",
    "        SPECIES[class_id], 100 * probability))\n",
    " "
   ]
  },
  {
   "cell_type": "code",
   "execution_count": 18,
   "id": "88cf2409-b487-4c85-8d04-613bde438779",
   "metadata": {},
   "outputs": [
    {
     "data": {
      "text/html": [
       "<div>\n",
       "<style scoped>\n",
       "    .dataframe tbody tr th:only-of-type {\n",
       "        vertical-align: middle;\n",
       "    }\n",
       "\n",
       "    .dataframe tbody tr th {\n",
       "        vertical-align: top;\n",
       "    }\n",
       "\n",
       "    .dataframe thead th {\n",
       "        text-align: right;\n",
       "    }\n",
       "</style>\n",
       "<table border=\"1\" class=\"dataframe\">\n",
       "  <thead>\n",
       "    <tr style=\"text-align: right;\">\n",
       "      <th></th>\n",
       "      <th>SepalLength</th>\n",
       "      <th>SepalWidth</th>\n",
       "      <th>PetalLength</th>\n",
       "      <th>PetalWidth</th>\n",
       "    </tr>\n",
       "  </thead>\n",
       "  <tbody>\n",
       "    <tr>\n",
       "      <th>0</th>\n",
       "      <td>6.4</td>\n",
       "      <td>2.8</td>\n",
       "      <td>5.6</td>\n",
       "      <td>2.2</td>\n",
       "    </tr>\n",
       "    <tr>\n",
       "      <th>1</th>\n",
       "      <td>5.0</td>\n",
       "      <td>2.3</td>\n",
       "      <td>3.3</td>\n",
       "      <td>1.0</td>\n",
       "    </tr>\n",
       "    <tr>\n",
       "      <th>2</th>\n",
       "      <td>4.9</td>\n",
       "      <td>2.5</td>\n",
       "      <td>4.5</td>\n",
       "      <td>1.7</td>\n",
       "    </tr>\n",
       "    <tr>\n",
       "      <th>3</th>\n",
       "      <td>4.9</td>\n",
       "      <td>3.1</td>\n",
       "      <td>1.5</td>\n",
       "      <td>0.1</td>\n",
       "    </tr>\n",
       "    <tr>\n",
       "      <th>4</th>\n",
       "      <td>5.7</td>\n",
       "      <td>3.8</td>\n",
       "      <td>1.7</td>\n",
       "      <td>0.3</td>\n",
       "    </tr>\n",
       "  </tbody>\n",
       "</table>\n",
       "</div>"
      ],
      "text/plain": [
       "   SepalLength  SepalWidth  PetalLength  PetalWidth\n",
       "0          6.4         2.8          5.6         2.2\n",
       "1          5.0         2.3          3.3         1.0\n",
       "2          4.9         2.5          4.5         1.7\n",
       "3          4.9         3.1          1.5         0.1\n",
       "4          5.7         3.8          1.7         0.3"
      ]
     },
     "execution_count": 18,
     "metadata": {},
     "output_type": "execute_result"
    }
   ],
   "source": [
    "train.head()"
   ]
  }
 ],
 "metadata": {
  "kernelspec": {
   "display_name": "Python 3 (ipykernel)",
   "language": "python",
   "name": "python3"
  },
  "language_info": {
   "codemirror_mode": {
    "name": "ipython",
    "version": 3
   },
   "file_extension": ".py",
   "mimetype": "text/x-python",
   "name": "python",
   "nbconvert_exporter": "python",
   "pygments_lexer": "ipython3",
   "version": "3.8.10"
  }
 },
 "nbformat": 4,
 "nbformat_minor": 5
}
